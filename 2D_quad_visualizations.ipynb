{
 "cells": [
  {
   "cell_type": "code",
   "execution_count": null,
   "id": "8807674e",
   "metadata": {},
   "outputs": [],
   "source": [
    "# !git clone https://github.com/AxelThevenot/Python_Benchmark_Test_Optimization_Function_Single_Objective.git\n",
    "# !mv Python_Benchmark_Test_Optimization_Function_Single_Objective/src .\n",
    "# !mv Python_Benchmark_Test_Optimization_Function_Single_Objective/pybenchfunction/ .\n",
    "# !ls Python_Benchmark_Test_Optimization_Function_Single_Objective/"
   ]
  },
  {
   "cell_type": "code",
   "execution_count": null,
   "id": "189ae5b8",
   "metadata": {},
   "outputs": [],
   "source": [
    "import torch\n",
    "from tqdm.notebook import tqdm\n",
    "import numpy as np\n",
    "import matplotlib.pyplot as plt\n",
    "import pybenchfunction as bench\n",
    "%matplotlib inline"
   ]
  },
  {
   "cell_type": "code",
   "execution_count": null,
   "id": "aaf2e947",
   "metadata": {},
   "outputs": [],
   "source": [
    "# Functions with sum of terms structure\n",
    "\n",
    "def LevyN13_i(i,x):\n",
    "    w = 1.0+(x-1.0)/4.0\n",
    "    if i==0:\n",
    "        return  torch.sin(torch.pi*w[0])**2\n",
    "    else:\n",
    "        return  ( (w[i-1]-1)**2*(1+10*torch.sin(torch.pi*w[i-1]+1)**2)+ (w[-1]-1)**2*(1+torch.sin(2*torch.pi*w[-1])**2)         )\n",
    "\n",
    "def PermDBeta_i(i,x):\n",
    "    beta=0.5  # Added default value for beta\n",
    "    v = 0\n",
    "    # j = np.arange(1, d+1)\n",
    "    # j = range(1,d+1)\n",
    "    # v = torch.sum(((j**(i+1) + beta) *((x/j)**(i+1) - 1))**2 ) \n",
    "    for j in range(d):\n",
    "        # v+=(1+j+beta)*(x[j]**(i+1) -1. / (j+1)**(i+1))   \n",
    "        # v+=(1+j+beta)*(x[j]/(j+1)**(i+1))  \n",
    "        v+= (((j+1)**(i+1) + beta) *((x[j]/(j+1))**(i+1) - 1))**2 \n",
    "    return v\n",
    "    \n",
    "def Rastrigin_i(i,x):\n",
    "    v = 10+x[i]**2-10*torch.cos(2*torch.pi*x[i])\n",
    "    return v\n",
    "    \n",
    "def RosenBrock_i(i,x):\n",
    "    b = 100\n",
    "    a = 1\n",
    "    return b * (x[i] - x[i - 1] ** 2) ** 2 + (a - x[i]) ** 2   \n"
   ]
  },
  {
   "cell_type": "code",
   "execution_count": null,
   "id": "f5f006f0",
   "metadata": {},
   "outputs": [],
   "source": [
    "from algorithms import *"
   ]
  },
  {
   "cell_type": "code",
   "execution_count": null,
   "id": "27903856",
   "metadata": {},
   "outputs": [],
   "source": [
    "font = {'size'   : 12}\n",
    "import matplotlib\n",
    "matplotlib.rc('font', **font)\n",
    "\n",
    "def plot_level_set_results(bench_function, x_lists):\n",
    "    labels = ['SP2plus', 'SP2', 'SGD',  \"SP\", 'Adam', 'Newton']\n",
    "    colors = ['g', 'b', 'y', 'm', 'tab:pink',  'r' ]\n",
    "    markers = [\"x\", \"o\", \"2\" , \"P\", \",\", \"v\"]\n",
    "    # bench.plot_3d(thevenot, n_space=100, ax=None,show=False)\n",
    "    bench.plot_2d(bench_function, n_space=100, ax=None, show=False)\n",
    "    X_domain, Y_domain = bench_function.input_domain\n",
    "    X_min, minimum = bench_function.get_global_minimum(2)\n",
    "    plt.plot(X_min[0],X_min[1],'*', markersize=10, color='yellow')\n",
    "    for x_list, color, marker, label in zip(x_lists, colors, markers, labels):\n",
    "        plt.scatter(x_list[0],x_list[1], s=20, label = label, zorder=1, color = color, marker=marker)\n",
    "    plt.xlim(X_domain)\n",
    "    plt.ylim(Y_domain) \n",
    "    plt.tight_layout()\n",
    "    plt.legend()\n",
    "    plt.savefig(bench_function.name + '-2d.pdf', bbox_inches='tight', pad_inches =0)\n",
    "    plt.show()\n",
    "\n",
    "\n",
    "    bench.plot_3d(bench_function, n_space=100, ax=None, show=False)\n",
    "    plt.plot(X_min[0],X_min[1],'*', markersize=12, color='yellow')\n",
    "    \n",
    "    for x_list, color, marker, label in zip(x_lists, colors, markers, labels):\n",
    "        plt.scatter(x_list[0],x_list[1], s=20, label = label, zorder=1, color = color, marker=marker)\n",
    "    plt.xlim(X_domain)\n",
    "    plt.ylim(Y_domain) \n",
    "    plt.tight_layout()\n",
    "    plt.savefig(bench_function.name + '-3d.pdf', bbox_inches='tight', pad_inches =0)\n",
    "    plt.legend() \n",
    "    plt.show()\n",
    "\n",
    "\n",
    "def plot_function_values(bench_function, fvals, times = None, add_caption = None):\n",
    "    # ['bs', 'yd','r+']\n",
    "    SP2plus_fval, SP2_fval, SGD_fval, SP_fval, Adam_fval, newt_fval = fvals\n",
    "    linewidth =3\n",
    "    plt.plot(SP2plus_fval, 'g' , label='SP2plus', linewidth=linewidth )\n",
    "    plt.plot(SP2_fval, 'b', label='SP2', linewidth=linewidth)\n",
    "    plt.plot(SGD_fval, 'y', label='SGD', linewidth=linewidth )\n",
    "    plt.plot(SP_fval, 'm', label='SP', linewidth=linewidth)\n",
    "    plt.plot(newt_fval, 'r', label='Newton', linewidth=linewidth)\n",
    "    plt.plot(Adam_fval, 'tab:pink', label='Adam', linewidth=linewidth)\n",
    "\n",
    "    plt.ylabel('function value')\n",
    "    plt.xlabel('epochs')\n",
    "    plt.yscale('log')\n",
    "    plt.legend()\n",
    "    title = bench_function.name + '-funcs'\n",
    "    if add_caption is not None:\n",
    "        title = title + '-' + add_caption + '-'\n",
    "    plt.savefig(title +  '.pdf',bbox_inches='tight', pad_inches =0)\n",
    "    plt.show()\n",
    "\n",
    "    if times is not None:\n",
    "        SP2plus_time, SP2_time, SGD_time,  SP_time, Adam_time, newt_time = times\n",
    "        plt.plot(SP2plus_time*np.arange(len(SP2plus_fval)), SP2plus_fval, 'g' , label='SP2plus', linewidth=linewidth )\n",
    "        plt.plot(SP2_time*np.arange(len(SP2_fval)),SP2_fval, 'b', label='SP2', linewidth=linewidth)\n",
    "        plt.plot(SGD_time*np.arange(len(SGD_fval)),SGD_fval, 'y', label='SGD', linewidth=linewidth )\n",
    "        # plt.plot(newt_time*np.arange(len(newt_fval)),newt_fval, 'r', label='Newton', linewidth=linewidth)\n",
    "        plt.plot(SP_time*np.arange(len(SP_fval)),SP_fval, 'm', label='SP', linewidth=linewidth)\n",
    "        plt.plot(Adam_time*np.arange(len(Adam_fval)), Adam_fval, 'tab:pink', label='Adam', linewidth=linewidth)\n",
    "        plt.ylabel('function value')\n",
    "        plt.xlabel('time')\n",
    "        plt.yscale('log')\n",
    "        plt.legend()\n",
    "        plt.savefig(title +  '-time.pdf',bbox_inches='tight', pad_inches =0)\n",
    "        plt.show()"
   ]
  },
  {
   "cell_type": "code",
   "execution_count": null,
   "id": "2654adfe",
   "metadata": {},
   "outputs": [],
   "source": [
    "import time\n",
    "\n",
    "def run_all_method(fi,ffull, epochs, stepsize,x0,d, sgd_step = None, adam_step = 0.01, running_newton = True):\n",
    "    t0 = time.perf_counter()\n",
    "    SP2plus_x_list, SP2plus_fval  =run_SP2plus(fi, epochs=epochs, x0 = x0, d=d, lr=stepsize)\n",
    "    SP2plus_time = time.perf_counter() -t0\n",
    "    t0 = time.perf_counter()\n",
    "    SP2_x_list, SP2_fval  =run_SP2(fi, epochs=epochs, x0 = x0, d=d, lr=stepsize)\n",
    "    SP2_time = time.perf_counter() -t0\n",
    "    t0 = time.perf_counter()\n",
    "    SGD_x_list, SGD_fval  =run_SGD(fi, epochs=epochs, x0 = x0,d=d, lr=sgd_step)\n",
    "    SGD_time = time.perf_counter() -t0\n",
    "    t0 = time.perf_counter()\n",
    "    if running_newton:\n",
    "        newt_x_list, newt_fval=run_newton(fi, epochs=epochs, x0 = x0, d=d, lr=stepsize)\n",
    "    else:\n",
    "        newt_x_list =0; newt_fval =0\n",
    "    newt_time = time.perf_counter() -t0\n",
    "    t0 = time.perf_counter()\n",
    "    SP_x_list, SP_fval=run_SP2plus(fi, epochs=epochs, x0 = x0, d=d, lr=stepsize, nosp1=False)\n",
    "    SP_time = time.perf_counter() -t0\n",
    "    t0 = time.perf_counter()\n",
    "    Adam_x_list, Adam_fval=adam(fi, epochs=epochs, x0 = x0, d=d, lr=adam_step )\n",
    "    Adam_time = time.perf_counter() -t0\n",
    "    times = [SP2plus_time, SP2_time, SGD_time,  SP_time, Adam_time, newt_time]\n",
    "    fvals = [SP2plus_fval, SP2_fval, SGD_fval, SP_fval, Adam_fval, newt_fval]\n",
    "    xvals = [SP2plus_x_list, SP2_x_list, SGD_x_list, SP_x_list, Adam_x_list, newt_x_list]\n",
    "    return fvals, times, xvals\n",
    "    \n",
    "def run_plot_all(fi,ffull, epochs, stepsize,x0,d, sgd_step = None, adam_step = 0.01):\n",
    "    if sgd_step is None:\n",
    "        sgd_step = stepsize\n",
    "    if adam_step is None:\n",
    "        adam_step = stepsize\n",
    "    fvals, times, xvals = run_all_method(fi,ffull, epochs, stepsize,x0,d, sgd_step = sgd_step, adam_step = adam_step)\n",
    "    plot_function_values(ffull, fvals, times = times)\n",
    "    plot_level_set_results(ffull, xvals ) "
   ]
  },
  {
   "cell_type": "code",
   "execution_count": null,
   "id": "1980decc",
   "metadata": {},
   "outputs": [],
   "source": [
    "# Global stepsize for methods except SGD (which required tuning)\n",
    "stepsize= 0.5"
   ]
  },
  {
   "cell_type": "code",
   "execution_count": null,
   "id": "5236b3d0",
   "metadata": {},
   "outputs": [],
   "source": [
    "d=2\n",
    "epochs = 200\n",
    "x0 = torch.ones(d, requires_grad=True).double() *1.8\n",
    "fi = LevyN13_i\n",
    "ffull  = bench.function.LevyN13(d)\n",
    "run_plot_all(fi,ffull, epochs, stepsize,x0,d, sgd_step = stepsize, adam_step=0.05) #, \n"
   ]
  },
  {
   "cell_type": "code",
   "execution_count": null,
   "id": "8b2bd0f4",
   "metadata": {},
   "outputs": [],
   "source": [
    "d=2\n",
    "epochs = 200\n",
    "x0 = -2*torch.randn(d, requires_grad=True).double()\n",
    "fi = PermDBeta_i\n",
    "ffull  = bench.function.PermDBeta(d)\n",
    "run_plot_all(fi,ffull, epochs, stepsize,x0,d, sgd_step = 0.01, adam_step=1.0)\n"
   ]
  },
  {
   "cell_type": "code",
   "execution_count": null,
   "id": "e44a62b0",
   "metadata": {},
   "outputs": [],
   "source": [
    "d=2\n",
    "epochs = 200\n",
    "x0 = torch.rand(d, requires_grad=True).double() *0.45\n",
    "fi = Rastrigin_i\n",
    "ffull  = bench.function.Rastrigin(d)\n",
    "run_plot_all(fi,ffull, epochs, stepsize,x0,d, sgd_step = 0.0001, adam_step=0.05)\n"
   ]
  },
  {
   "cell_type": "code",
   "execution_count": null,
   "id": "b0be72da",
   "metadata": {},
   "outputs": [],
   "source": [
    "d=2\n",
    "epochs = 5000\n",
    "x0 = torch.ones(d, requires_grad=True).double()*10\n",
    "fi = RosenBrock_i\n",
    "ffull  = bench.function.Rosenbrock(d)\n",
    "rosenstep = stepsize/3\n",
    "run_plot_all(fi,ffull, epochs, rosenstep, x0,d, sgd_step = 0.00001, adam_step=0.5)\n"
   ]
  },
  {
   "cell_type": "code",
   "execution_count": null,
   "id": "dcf09645",
   "metadata": {},
   "outputs": [],
   "source": [
    "\n",
    "def run_all_d_dim(epochs, stepsize, d, sgd_step = None):\n",
    "    if sgd_step is None:\n",
    "        sgd_step = stepsize\n",
    "\n",
    "    x0 = -2*torch.randn(d, requires_grad=True).double()\n",
    "    fi = PermDBeta_i\n",
    "    ffull  = bench.function.PermDBeta(d)\n",
    "    fvals, times, xvals = run_all_method(fi,ffull, epochs, stepsize,x0,d, sgd_step = sgd_step, running_newton = False)\n",
    "    plot_function_values(ffull, fvals, times = times, add_caption = str(d))\n",
    "\n",
    "    x0 = torch.rand(d, requires_grad=True).double() *0.45\n",
    "    fi = Rastrigin_i\n",
    "    ffull  = bench.function.Rastrigin(d)\n",
    "    fvals, times, xvals = run_all_method(fi,ffull, epochs, stepsize,x0,d, sgd_step = sgd_step, running_newton = False)\n",
    "    plot_function_values(ffull, fvals, times = times, add_caption = str(d))\n",
    "\n",
    "    x0 = torch.ones(d, requires_grad=True).double()*10\n",
    "    fi = RosenBrock_i\n",
    "    ffull  = bench.function.Rosenbrock(d)\n",
    "    fvals, times, xvals = run_all_method(fi,ffull, epochs, stepsize,x0,d, sgd_step = sgd_step, running_newton = False)\n",
    "    plot_function_values(ffull, fvals, times = times, add_caption = str(d))\n",
    "    "
   ]
  },
  {
   "cell_type": "code",
   "execution_count": null,
   "id": "dbabfb32",
   "metadata": {},
   "outputs": [],
   "source": [
    "epochs = 1000\n",
    "stepsize_dim = 0.05; d= 100 # for d= 100\n",
    "run_all_d_dim(epochs, stepsize = stepsize_dim, d =d, sgd_step = 0.005)"
   ]
  },
  {
   "cell_type": "code",
   "execution_count": null,
   "id": "dce49db6",
   "metadata": {},
   "outputs": [],
   "source": [
    "epochs = 100\n",
    "stepsize_dim = 0.05; d= 1000 # for d= 100\n",
    "run_all_d_dim(epochs, stepsize = stepsize_dim, d =d, sgd_step = 0.001)"
   ]
  },
  {
   "cell_type": "code",
   "execution_count": null,
   "id": "136f8dad",
   "metadata": {},
   "outputs": [],
   "source": []
  }
 ],
 "metadata": {
  "kernelspec": {
   "display_name": "Python 3.8.9 64-bit",
   "language": "python",
   "name": "python3"
  },
  "language_info": {
   "codemirror_mode": {
    "name": "ipython",
    "version": 3
   },
   "file_extension": ".py",
   "mimetype": "text/x-python",
   "name": "python",
   "nbconvert_exporter": "python",
   "pygments_lexer": "ipython3",
   "version": "3.9.6"
  },
  "vscode": {
   "interpreter": {
    "hash": "31f2aee4e71d21fbe5cf8b01ff0e069b9275f58929596ceb00d14d90e3e16cd6"
   }
  }
 },
 "nbformat": 4,
 "nbformat_minor": 5
}

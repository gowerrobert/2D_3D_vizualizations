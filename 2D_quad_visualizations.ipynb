{
 "cells": [
  {
   "cell_type": "code",
   "execution_count": null,
   "id": "8807674e",
   "metadata": {},
   "outputs": [],
   "source": [
    "# !git clone https://github.com/AxelThevenot/Python_Benchmark_Test_Optimization_Function_Single_Objective.git\n",
    "# !mv Python_Benchmark_Test_Optimization_Function_Single_Objective/src .\n",
    "# !mv Python_Benchmark_Test_Optimization_Function_Single_Objective/pybenchfunction/ .\n",
    "# !ls Python_Benchmark_Test_Optimization_Function_Single_Objective/"
   ]
  },
  {
   "cell_type": "code",
   "execution_count": null,
   "id": "189ae5b8",
   "metadata": {},
   "outputs": [],
   "source": [
    "import torch\n",
    "from tqdm.notebook import tqdm\n",
    "import numpy as np\n",
    "\n",
    "import pybenchfunction as bench\n",
    "from src.stoch_functions import LevyN13_i, PermDBeta_i,  Rastrigin_i, RosenBrock_i\n",
    "%matplotlib inline"
   ]
  },
  {
   "cell_type": "code",
   "execution_count": null,
   "id": "f5f006f0",
   "metadata": {},
   "outputs": [],
   "source": [
    "from src.algorithms import *"
   ]
  },
  {
   "cell_type": "code",
   "execution_count": null,
   "id": "27903856",
   "metadata": {},
   "outputs": [],
   "source": [
    "from src.plotting import plot_function_values, plot_level_set_results"
   ]
  },
  {
   "cell_type": "code",
   "execution_count": null,
   "id": "2654adfe",
   "metadata": {},
   "outputs": [],
   "source": [
    "import time\n",
    "\n",
    "def run_all_method(fi,ffull, epochs, stepsize,x0,d, sgd_step = None, adam_step = 0.01, running_newton = True):\n",
    "    t0 = time.perf_counter()\n",
    "    SP2plus_x_list, SP2plus_fval  =run_SP2plus(fi, epochs=epochs, x0 = x0, d=d, lr=stepsize)\n",
    "    SP2plus_time = time.perf_counter() -t0\n",
    "    t0 = time.perf_counter()\n",
    "    SP2_x_list, SP2_fval  =run_SP2(fi, epochs=epochs, x0 = x0, d=d, lr=stepsize)\n",
    "    SP2_time = time.perf_counter() -t0\n",
    "    t0 = time.perf_counter()\n",
    "    SGD_x_list, SGD_fval  =run_SGD(fi, epochs=epochs, x0 = x0,d=d, lr=sgd_step)\n",
    "    SGD_time = time.perf_counter() -t0\n",
    "    t0 = time.perf_counter()\n",
    "    if running_newton:\n",
    "        newt_x_list, newt_fval=run_newton_stoch(fi, epochs=epochs, x0 = x0, d=d, lr=stepsize)\n",
    "    else:\n",
    "        newt_x_list =0; newt_fval =0\n",
    "    newt_time = time.perf_counter() -t0\n",
    "    t0 = time.perf_counter()\n",
    "    SP_x_list, SP_fval=run_SP2plus(fi, epochs=epochs, x0 = x0, d=d, lr=stepsize, nosp1=False)\n",
    "    SP_time = time.perf_counter() -t0\n",
    "    t0 = time.perf_counter()\n",
    "    Adam_x_list, Adam_fval=adam(fi, epochs=epochs, x0 = x0, d=d, lr=adam_step )\n",
    "    Adam_time = time.perf_counter() -t0\n",
    "    results = {\"SP2plus\": (SP2plus_time, SP2plus_fval, SP2plus_x_list), \n",
    "                \"SP2\": (SP2_time, SP2_fval, SP2_x_list), \n",
    "                \"SGD\": (SGD_time, SGD_fval, SGD_x_list), \n",
    "                \"SP\": (SP_time, SP_fval, SP_x_list), \n",
    "                \"Adam\": (Adam_time, Adam_fval, Adam_x_list), \n",
    "                \"Newton\": (newt_time, newt_fval, newt_x_list),   }\n",
    "    return results #fvals, times, xvals\n",
    "    \n",
    "def run_plot_all(fi,ffull, epochs, stepsize,x0,d, sgd_step = None, adam_step = 0.01):\n",
    "    if sgd_step is None:\n",
    "        sgd_step = stepsize\n",
    "    if adam_step is None:\n",
    "        adam_step = stepsize\n",
    "    results = run_all_method(fi,ffull, epochs, stepsize,x0,d, sgd_step = sgd_step, adam_step = adam_step)\n",
    "    plot_function_values(ffull, results)\n",
    "    plot_level_set_results(ffull, results ) "
   ]
  },
  {
   "cell_type": "code",
   "execution_count": null,
   "id": "1980decc",
   "metadata": {},
   "outputs": [],
   "source": [
    "# Global stepsize for methods except SGD (which required tuning)\n",
    "stepsize= 0.2"
   ]
  },
  {
   "cell_type": "code",
   "execution_count": null,
   "id": "5236b3d0",
   "metadata": {},
   "outputs": [],
   "source": [
    "d=2\n",
    "epochs = 200\n",
    "x0 = torch.ones(d, requires_grad=True).double() *1.8\n",
    "fi = LevyN13_i\n",
    "ffull  = bench.function.LevyN13(d)\n",
    "run_plot_all(fi,ffull, epochs, stepsize,x0,d, sgd_step = stepsize, adam_step=0.05) #, \n"
   ]
  },
  {
   "cell_type": "code",
   "execution_count": null,
   "id": "8b2bd0f4",
   "metadata": {},
   "outputs": [],
   "source": [
    "\n",
    "d=2\n",
    "epochs = 200\n",
    "x0 = -2*torch.randn(d, requires_grad=True).double()\n",
    "fi = PermDBeta_i\n",
    "ffull  = bench.function.PermDBeta(d)\n",
    "run_plot_all(fi,ffull, epochs, stepsize,x0,d, sgd_step = 0.01, adam_step=1.0)\n"
   ]
  },
  {
   "cell_type": "code",
   "execution_count": null,
   "id": "e44a62b0",
   "metadata": {},
   "outputs": [],
   "source": [
    "d=2\n",
    "epochs = 200\n",
    "x0 = torch.rand(d, requires_grad=True).double() *0.45\n",
    "fi = Rastrigin_i\n",
    "ffull  = bench.function.Rastrigin(d)\n",
    "run_plot_all(fi,ffull, epochs, stepsize,x0,d, sgd_step = 0.0001, adam_step=0.05)\n"
   ]
  },
  {
   "cell_type": "code",
   "execution_count": null,
   "id": "b0be72da",
   "metadata": {},
   "outputs": [],
   "source": [
    "d=2\n",
    "epochs = 4000\n",
    "x0 = torch.ones(d, requires_grad=True).double()*10\n",
    "fi = RosenBrock_i\n",
    "ffull  = bench.function.Rosenbrock(d)\n",
    "rosenstep = stepsize #/3\n",
    "run_plot_all(fi,ffull, epochs, rosenstep, x0,d, sgd_step = 0.00001, adam_step=stepsize)\n"
   ]
  },
  {
   "cell_type": "code",
   "execution_count": null,
   "id": "acb74680",
   "metadata": {},
   "outputs": [],
   "source": [
    "d = 10\n",
    "stepsize = 0.005\n",
    "sgd_step = 0.0000000001\n",
    "adam_step = 0.5  # 0.1\n",
    "epochs = 100 # 4000\n",
    "x0 = -2*torch.randn(d, requires_grad=True).double()\n",
    "fi = PermDBeta_i\n",
    "ffull  = bench.function.PermDBeta(d)\n",
    "results = run_all_method(fi,ffull, epochs, stepsize,x0,d, sgd_step = sgd_step, adam_step = adam_step, running_newton = False)\n",
    "plot_function_values(ffull, results, add_caption = str(d))"
   ]
  },
  {
   "cell_type": "code",
   "execution_count": null,
   "id": "d10e4432",
   "metadata": {},
   "outputs": [],
   "source": [
    "d =100\n",
    "stepsize = 0.5\n",
    "sgd_step = 0.005\n",
    "adam_step = 0.001 # 0.001\n",
    "epochs = 1000 # 1000\n",
    "x0 = torch.rand(d, requires_grad=True).double() *0.45\n",
    "fi = Rastrigin_i\n",
    "ffull  = bench.function.Rastrigin(d)\n",
    "results = run_all_method(fi,ffull, epochs, stepsize,x0,d, sgd_step = sgd_step, adam_step = adam_step, running_newton = False)\n",
    "plot_function_values(ffull, results, add_caption = str(d))"
   ]
  },
  {
   "cell_type": "code",
   "execution_count": null,
   "id": "94b9745d",
   "metadata": {},
   "outputs": [],
   "source": [
    "d= 100\n",
    "stepsize = 0.1\n",
    "sgd_step = 0.00001\n",
    "adam_step = 0.05  #0.05\n",
    "epochs = 4000 # 4000\n",
    "x0 = torch.ones(d, requires_grad=True).double()*10\n",
    "fi = RosenBrock_i\n",
    "ffull  = bench.function.Rosenbrock(d)\n",
    "results = run_all_method(fi,ffull, epochs, stepsize,x0,d, sgd_step = sgd_step, adam_step = adam_step, running_newton = False)\n",
    "plot_function_values(ffull, results, add_caption = str(d))"
   ]
  },
  {
   "cell_type": "code",
   "execution_count": null,
   "id": "6ec0f76b",
   "metadata": {},
   "outputs": [],
   "source": []
  }
 ],
 "metadata": {
  "kernelspec": {
   "display_name": "Python 3.8.9 64-bit",
   "language": "python",
   "name": "python3"
  },
  "language_info": {
   "codemirror_mode": {
    "name": "ipython",
    "version": 3
   },
   "file_extension": ".py",
   "mimetype": "text/x-python",
   "name": "python",
   "nbconvert_exporter": "python",
   "pygments_lexer": "ipython3",
   "version": "3.9.6"
  },
  "vscode": {
   "interpreter": {
    "hash": "31f2aee4e71d21fbe5cf8b01ff0e069b9275f58929596ceb00d14d90e3e16cd6"
   }
  }
 },
 "nbformat": 4,
 "nbformat_minor": 5
}
